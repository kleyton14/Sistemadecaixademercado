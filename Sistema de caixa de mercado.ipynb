{
 "cells": [
  {
   "cell_type": "code",
   "execution_count": 158,
   "id": "301a622d",
   "metadata": {},
   "outputs": [],
   "source": [
    "from functools import reduce"
   ]
  },
  {
   "cell_type": "code",
   "execution_count": 159,
   "id": "e26c1a31",
   "metadata": {},
   "outputs": [],
   "source": [
    "mercadoria = {'arroz5k':10.00, 'arroz1k':3.00, 'feijão1k':3.00, 'macarrão1k':3.00, 'sabonete':3.00, 'detergente':2.00, 'carne1k':20.00, 'proximo':0, 'fechar':0}\n"
   ]
  },
  {
   "cell_type": "code",
   "execution_count": 160,
   "id": "4c62a44f",
   "metadata": {},
   "outputs": [],
   "source": [
    "class lista_de_compra:\n",
    "    def __init__(self):\n",
    "        self.compras = []\n",
    "        \n",
    "    def adicionar_compras_na_lista(self,add):\n",
    "        self.compras.append(mercadoria[add])\n",
    "        return self.compras"
   ]
  },
  {
   "cell_type": "code",
   "execution_count": 161,
   "id": "b8f4cce1",
   "metadata": {},
   "outputs": [],
   "source": [
    "todas_compras = []"
   ]
  },
  {
   "cell_type": "code",
   "execution_count": 168,
   "id": "b0a122b7",
   "metadata": {},
   "outputs": [],
   "source": [
    "def caixa():\n",
    "    cliente = lista_de_compra()\n",
    "    try:  \n",
    "        while True:\n",
    "\n",
    "            add_input = str(input(f'Adicione o nome do produto do cliente ou \\n \"proximo\" para registra outra compra ou \\n \"fechar\" para fechar o caixa:'))\n",
    "\n",
    "            total = reduce(lambda a,b: a+b ,cliente.adicionar_compras_na_lista(add_input))\n",
    "            print('----------------------')\n",
    "            print('Total da compra:'+ str(total))\n",
    "            print('----------------------')\n",
    "            if add_input == 'proximo':\n",
    "                todas_compras.append(int(total))\n",
    "                cliente = lista_de_compra()\n",
    "\n",
    "            elif add_input == 'fechar':\n",
    "                todas_compras.append(int(total))\n",
    "                break\n",
    "\n",
    "            else:\n",
    "                continue\n",
    "    except:\n",
    "        print('Digitou errado, passe as compras denovo')\n",
    "        caixa()"
   ]
  },
  {
   "cell_type": "code",
   "execution_count": 169,
   "id": "7cd9b4e8",
   "metadata": {},
   "outputs": [],
   "source": [
    "def resumo_do_caixa():\n",
    "    total_compras = reduce(lambda a,b: a+b, todas_compras)\n",
    "    total_compras = str(total_compras)\n",
    "    print('----------------------------------')\n",
    "    print('O total de todas as compras:'+ total_compras)\n",
    "    print('----------------------------------')"
   ]
  },
  {
   "cell_type": "code",
   "execution_count": 170,
   "id": "c0f4af92",
   "metadata": {},
   "outputs": [],
   "source": [
    "def sistema_beta():\n",
    "    caixa()\n",
    "    resumo_do_caixa()"
   ]
  },
  {
   "cell_type": "code",
   "execution_count": 171,
   "id": "16c2d131",
   "metadata": {
    "collapsed": true
   },
   "outputs": [
    {
     "name": "stdout",
     "output_type": "stream",
     "text": [
      "Adicione o nome do produto do cliente ou \n",
      " \"proximo\" para registra outra compra ou \n",
      " \"fechar\" para fechar o caixa:1\n",
      "Digitou errado, passe as compras denovo\n",
      "Adicione o nome do produto do cliente ou \n",
      " \"proximo\" para registra outra compra ou \n",
      " \"fechar\" para fechar o caixa:1\n",
      "Digitou errado, passe as compras denovo\n",
      "Adicione o nome do produto do cliente ou \n",
      " \"proximo\" para registra outra compra ou \n",
      " \"fechar\" para fechar o caixa:1\n",
      "Digitou errado, passe as compras denovo\n",
      "Digitou errado, passe as compras denovo\n",
      "Digitou errado, passe as compras denovo\n",
      "Digitou errado, passe as compras denovo\n",
      "Digitou errado, passe as compras denovo\n",
      "Digitou errado, passe as compras denovo\n",
      "Digitou errado, passe as compras denovo\n",
      "Digitou errado, passe as compras denovo\n",
      "Digitou errado, passe as compras denovo\n",
      "Digitou errado, passe as compras denovo\n",
      "Digitou errado, passe as compras denovo\n",
      "Digitou errado, passe as compras denovo\n",
      "Digitou errado, passe as compras denovo\n",
      "Digitou errado, passe as compras denovo\n",
      "Adicione o nome do produto do cliente ou \n",
      " \"proximo\" para registra outra compra ou \n",
      " \"fechar\" para fechar o caixa:fechar\n",
      "----------------------\n",
      "Total da compra:0\n",
      "----------------------\n",
      "----------------------------------\n",
      "O total de todas as compras:59\n",
      "----------------------------------\n"
     ]
    }
   ],
   "source": [
    "sistema_beta()"
   ]
  },
  {
   "cell_type": "code",
   "execution_count": null,
   "id": "eb1bb24a",
   "metadata": {},
   "outputs": [],
   "source": []
  }
 ],
 "metadata": {
  "kernelspec": {
   "display_name": "Python 3 (ipykernel)",
   "language": "python",
   "name": "python3"
  },
  "language_info": {
   "codemirror_mode": {
    "name": "ipython",
    "version": 3
   },
   "file_extension": ".py",
   "mimetype": "text/x-python",
   "name": "python",
   "nbconvert_exporter": "python",
   "pygments_lexer": "ipython3",
   "version": "3.9.7"
  }
 },
 "nbformat": 4,
 "nbformat_minor": 5
}
